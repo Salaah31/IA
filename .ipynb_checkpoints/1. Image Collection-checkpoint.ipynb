{
 "cells": [
  {
   "cell_type": "markdown",
   "metadata": {},
   "source": [
    "# 1. Import Dependencies"
   ]
  },
  {
   "cell_type": "code",
   "execution_count": 2,
   "metadata": {},
   "outputs": [
    {
     "name": "stdout",
     "output_type": "stream",
     "text": [
      "Requirement already satisfied: opencv-python in c:\\ia\\tensorflow object detection\\tfodcourse\\tfod\\lib\\site-packages (4.5.5.64)\n",
      "Requirement already satisfied: numpy>=1.14.5 in c:\\ia\\tensorflow object detection\\tfodcourse\\tfod\\lib\\site-packages (from opencv-python) (1.21.6)\n"
     ]
    }
   ],
   "source": [
    "!pip install opencv-python"
   ]
  },
  {
   "cell_type": "code",
   "execution_count": 3,
   "metadata": {},
   "outputs": [],
   "source": [
    "# Import opencv\n",
    "import cv2 \n",
    "\n",
    "# Import uuid\n",
    "import uuid\n",
    "\n",
    "# Import Operating System\n",
    "import os\n",
    "\n",
    "# Import time\n",
    "import time"
   ]
  },
  {
   "cell_type": "markdown",
   "metadata": {},
   "source": [
    "# 2. Define Images to Collect"
   ]
  },
  {
   "cell_type": "code",
   "execution_count": 4,
   "metadata": {},
   "outputs": [],
   "source": [
    "labels = ['hello', 'yes', 'jul']\n",
    "number_imgs = 20"
   ]
  },
  {
   "cell_type": "markdown",
   "metadata": {},
   "source": [
    "# 3. Setup Folders "
   ]
  },
  {
   "cell_type": "code",
   "execution_count": 5,
   "metadata": {},
   "outputs": [],
   "source": [
    "IMAGES_PATH = os.path.join('Tensorflow', 'workspace', 'images', 'collectedimages')"
   ]
  },
  {
   "cell_type": "code",
   "execution_count": 6,
   "metadata": {},
   "outputs": [],
   "source": [
    "if not os.path.exists(IMAGES_PATH):\n",
    "    if os.name == 'posix':\n",
    "        !mkdir -p {IMAGES_PATH}\n",
    "    if os.name == 'nt':\n",
    "         !mkdir {IMAGES_PATH}\n",
    "for label in labels:\n",
    "    path = os.path.join(IMAGES_PATH, label)\n",
    "    if not os.path.exists(path):\n",
    "        !mkdir {path}"
   ]
  },
  {
   "cell_type": "markdown",
   "metadata": {},
   "source": [
    "# 4. Capture Images"
   ]
  },
  {
   "cell_type": "code",
   "execution_count": 7,
   "metadata": {
    "scrolled": true
   },
   "outputs": [
    {
     "name": "stdout",
     "output_type": "stream",
     "text": [
      "Collecting images for hello\n",
      "Collecting image 0\n",
      "Collecting image 1\n",
      "Collecting image 2\n",
      "Collecting image 3\n",
      "Collecting image 4\n",
      "Collecting image 5\n",
      "Collecting image 6\n",
      "Collecting image 7\n",
      "Collecting image 8\n",
      "Collecting image 9\n",
      "Collecting image 10\n",
      "Collecting image 11\n",
      "Collecting image 12\n",
      "Collecting image 13\n",
      "Collecting image 14\n",
      "Collecting image 15\n",
      "Collecting image 16\n",
      "Collecting image 17\n",
      "Collecting image 18\n",
      "Collecting image 19\n",
      "Collecting images for yes\n",
      "Collecting image 0\n",
      "Collecting image 1\n",
      "Collecting image 2\n",
      "Collecting image 3\n",
      "Collecting image 4\n",
      "Collecting image 5\n",
      "Collecting image 6\n",
      "Collecting image 7\n",
      "Collecting image 8\n",
      "Collecting image 9\n",
      "Collecting image 10\n",
      "Collecting image 11\n",
      "Collecting image 12\n",
      "Collecting image 13\n",
      "Collecting image 14\n",
      "Collecting image 15\n",
      "Collecting image 16\n",
      "Collecting image 17\n",
      "Collecting image 18\n",
      "Collecting image 19\n",
      "Collecting images for jul\n",
      "Collecting image 0\n",
      "Collecting image 1\n",
      "Collecting image 2\n",
      "Collecting image 3\n",
      "Collecting image 4\n",
      "Collecting image 5\n",
      "Collecting image 6\n",
      "Collecting image 7\n",
      "Collecting image 8\n",
      "Collecting image 9\n",
      "Collecting image 10\n",
      "Collecting image 11\n",
      "Collecting image 12\n",
      "Collecting image 13\n",
      "Collecting image 14\n",
      "Collecting image 15\n",
      "Collecting image 16\n",
      "Collecting image 17\n",
      "Collecting image 18\n",
      "Collecting image 19\n"
     ]
    }
   ],
   "source": [
    "for label in labels:\n",
    "    cap = cv2.VideoCapture(0) #CONNECTION A LA WEBCAM KHEY\n",
    "    print('Collecting images for {}'.format(label))\n",
    "    time.sleep(5)\n",
    "    for imgnum in range(number_imgs):\n",
    "        print('Collecting image {}'.format(imgnum))\n",
    "        ret, frame = cap.read()\n",
    "        imgname = os.path.join(IMAGES_PATH,label,label+'.'+'{}.jpg'.format(str(uuid.uuid1())))\n",
    "        cv2.imwrite(imgname, frame)\n",
    "        cv2.imshow('frame', frame)\n",
    "        time.sleep(2)\n",
    "\n",
    "        if cv2.waitKey(1) & 0xFF == ord('q'):\n",
    "            break\n",
    "cap.release()\n",
    "cv2.destroyAllWindows()"
   ]
  },
  {
   "cell_type": "markdown",
   "metadata": {},
   "source": [
    "# 5. Image Labelling"
   ]
  },
  {
   "cell_type": "code",
   "execution_count": 8,
   "metadata": {
    "collapsed": true
   },
   "outputs": [
    {
     "name": "stdout",
     "output_type": "stream",
     "text": [
      "Collecting pyqt5\n",
      "  Downloading PyQt5-5.15.6-cp36-abi3-win_amd64.whl (6.7 MB)\n",
      "     ---------------------------------------- 6.7/6.7 MB 4.1 MB/s eta 0:00:00\n",
      "Collecting lxml\n",
      "  Downloading lxml-4.8.0-cp37-cp37m-win_amd64.whl (3.6 MB)\n",
      "     ---------------------------------------- 3.6/3.6 MB 4.9 MB/s eta 0:00:00\n",
      "Collecting PyQt5-Qt5>=5.15.2\n",
      "  Downloading PyQt5_Qt5-5.15.2-py3-none-win_amd64.whl (50.1 MB)\n",
      "     ---------------------------------------- 50.1/50.1 MB 3.4 MB/s eta 0:00:00\n",
      "Collecting PyQt5-sip<13,>=12.8\n",
      "  Downloading PyQt5_sip-12.10.1-cp37-cp37m-win_amd64.whl (76 kB)\n",
      "     ---------------------------------------- 76.9/76.9 kB 2.2 MB/s eta 0:00:00\n",
      "Installing collected packages: PyQt5-Qt5, PyQt5-sip, lxml, pyqt5\n",
      "Successfully installed PyQt5-Qt5-5.15.2 PyQt5-sip-12.10.1 lxml-4.8.0 pyqt5-5.15.6\n"
     ]
    }
   ],
   "source": [
    "!pip install --upgrade pyqt5 lxml"
   ]
  },
  {
   "cell_type": "code",
   "execution_count": 9,
   "metadata": {
    "collapsed": true
   },
   "outputs": [
    {
     "name": "stdout",
     "output_type": "stream",
     "text": [
      "Package           Version\n",
      "----------------- -----------\n",
      "backcall          0.2.0\n",
      "colorama          0.4.4\n",
      "debugpy           1.6.0\n",
      "decorator         5.1.1\n",
      "entrypoints       0.4\n",
      "ipykernel         6.13.0\n",
      "ipython           7.34.0\n",
      "jedi              0.18.1\n",
      "jupyter-client    7.3.1\n",
      "jupyter-core      4.10.0\n",
      "lxml              4.8.0\n",
      "matplotlib-inline 0.1.3\n",
      "nest-asyncio      1.5.5\n",
      "numpy             1.21.6\n",
      "opencv-python     4.5.5.64\n",
      "packaging         21.3\n",
      "parso             0.8.3\n",
      "pickleshare       0.7.5\n",
      "pip               22.1.1\n",
      "prompt-toolkit    3.0.29\n",
      "psutil            5.9.1\n",
      "Pygments          2.12.0\n",
      "pyparsing         3.0.9\n",
      "PyQt5             5.15.6\n",
      "PyQt5-Qt5         5.15.2\n",
      "PyQt5-sip         12.10.1\n",
      "python-dateutil   2.8.2\n",
      "pywin32           304\n",
      "pyzmq             23.0.0\n",
      "setuptools        40.8.0\n",
      "six               1.16.0\n",
      "tornado           6.1\n",
      "traitlets         5.2.1.post0\n",
      "wcwidth           0.2.5\n"
     ]
    }
   ],
   "source": [
    "!pip list"
   ]
  },
  {
   "cell_type": "code",
   "execution_count": 10,
   "metadata": {},
   "outputs": [],
   "source": [
    "LABELIMG_PATH = os.path.join('Tensorflow', 'labelimg')"
   ]
  },
  {
   "cell_type": "code",
   "execution_count": 11,
   "metadata": {},
   "outputs": [
    {
     "name": "stderr",
     "output_type": "stream",
     "text": [
      "Cloning into 'Tensorflow\\labelimg'...\n"
     ]
    }
   ],
   "source": [
    "if not os.path.exists(LABELIMG_PATH):\n",
    "    !mkdir {LABELIMG_PATH}\n",
    "    !git clone https://github.com/tzutalin/labelImg {LABELIMG_PATH}"
   ]
  },
  {
   "cell_type": "code",
   "execution_count": 12,
   "metadata": {},
   "outputs": [],
   "source": [
    "if os.name == 'posix':\n",
    "    !cd {LABELIMG_PATH} && make qt5py3\n",
    "if os.name =='nt':\n",
    "    !cd {LABELIMG_PATH} && pyrcc5 -o libs/resources.py resources.qrc"
   ]
  },
  {
   "cell_type": "code",
   "execution_count": 13,
   "metadata": {},
   "outputs": [
    {
     "name": "stdout",
     "output_type": "stream",
     "text": [
      "Image:C:\\IA\\Tensorflow Object Detection\\TFODCourse\\Tensorflow\\workspace\\images\\collectedimages\\hello\\hello.04d085b8-e068-11ec-8e76-085bd6305574.jpg -> Annotation:C:/Users/Salah/Desktop/RealTimeObjectDetection/Tensorflow/workspace/images/collectedimages\\hello.04d085b8-e068-11ec-8e76-085bd6305574.xml\n",
      "Image:C:\\IA\\Tensorflow Object Detection\\TFODCourse\\Tensorflow\\workspace\\images\\collectedimages\\hello\\hello.025f229c-e068-11ec-b002-085bd6305574.jpg -> Annotation:C:/Users/Salah/Desktop/RealTimeObjectDetection/Tensorflow/workspace/images/collectedimages\\hello.025f229c-e068-11ec-b002-085bd6305574.xml\n",
      "Image:C:\\IA\\Tensorflow Object Detection\\TFODCourse\\Tensorflow\\workspace\\images\\collectedimages\\hello\\hello.0397c06c-e068-11ec-b7bb-085bd6305574.jpg -> Annotation:C:/Users/Salah/Desktop/RealTimeObjectDetection/Tensorflow/workspace/images/collectedimages\\hello.0397c06c-e068-11ec-b7bb-085bd6305574.xml\n",
      "Image:C:\\IA\\Tensorflow Object Detection\\TFODCourse\\Tensorflow\\workspace\\images\\collectedimages\\hello\\hello.0608ef2e-e068-11ec-a2e5-085bd6305574.jpg -> Annotation:C:/Users/Salah/Desktop/RealTimeObjectDetection/Tensorflow/workspace/images/collectedimages\\hello.0608ef2e-e068-11ec-a2e5-085bd6305574.xml\n",
      "Image:C:\\IA\\Tensorflow Object Detection\\TFODCourse\\Tensorflow\\workspace\\images\\collectedimages\\hello\\hello.0741685c-e068-11ec-bd5d-085bd6305574.jpg -> Annotation:C:/Users/Salah/Desktop/RealTimeObjectDetection/Tensorflow/workspace/images/collectedimages\\hello.0741685c-e068-11ec-bd5d-085bd6305574.xml\n",
      "Image:C:\\IA\\Tensorflow Object Detection\\TFODCourse\\Tensorflow\\workspace\\images\\collectedimages\\hello\\hello.01278680-e068-11ec-a82c-085bd6305574.jpg -> Annotation:C:/Users/Salah/Desktop/RealTimeObjectDetection/Tensorflow/workspace/images/collectedimages\\hello.01278680-e068-11ec-a82c-085bd6305574.xml\n",
      "Image:C:\\IA\\Tensorflow Object Detection\\TFODCourse\\Tensorflow\\workspace\\images\\collectedimages\\hello\\hello.f3b5ebe2-e067-11ec-bfb4-085bd6305574.jpg -> Annotation:C:/Users/Salah/Desktop/RealTimeObjectDetection/Tensorflow/workspace/images/collectedimages\\hello.f3b5ebe2-e067-11ec-bfb4-085bd6305574.xml\n",
      "Image:C:\\IA\\Tensorflow Object Detection\\TFODCourse\\Tensorflow\\workspace\\images\\collectedimages\\hello\\hello.f4f1945c-e067-11ec-8bc8-085bd6305574.jpg -> Annotation:C:/Users/Salah/Desktop/RealTimeObjectDetection/Tensorflow/workspace/images/collectedimages\\hello.f4f1945c-e067-11ec-8bc8-085bd6305574.xml\n",
      "Image:C:\\IA\\Tensorflow Object Detection\\TFODCourse\\Tensorflow\\workspace\\images\\collectedimages\\hello\\hello.f9d3aa9a-e067-11ec-a93c-085bd6305574.jpg -> Annotation:C:/Users/Salah/Desktop/RealTimeObjectDetection/Tensorflow/workspace/images/collectedimages\\hello.f9d3aa9a-e067-11ec-a93c-085bd6305574.xml\n",
      "Image:C:\\IA\\Tensorflow Object Detection\\TFODCourse\\Tensorflow\\workspace\\images\\collectedimages\\hello\\hello.f13dda1e-e067-11ec-b6e9-085bd6305574.jpg -> Annotation:C:/Users/Salah/Desktop/RealTimeObjectDetection/Tensorflow/workspace/images/collectedimages\\hello.f13dda1e-e067-11ec-b6e9-085bd6305574.xml\n",
      "Image:C:\\IA\\Tensorflow Object Detection\\TFODCourse\\Tensorflow\\workspace\\images\\collectedimages\\hello\\hello.f62a5f4a-e067-11ec-a6e6-085bd6305574.jpg -> Annotation:C:/Users/Salah/Desktop/RealTimeObjectDetection/Tensorflow/workspace/images/collectedimages\\hello.f62a5f4a-e067-11ec-a6e6-085bd6305574.xml\n",
      "Image:C:\\IA\\Tensorflow Object Detection\\TFODCourse\\Tensorflow\\workspace\\images\\collectedimages\\hello\\hello.f89bce98-e067-11ec-b624-085bd6305574.jpg -> Annotation:C:/Users/Salah/Desktop/RealTimeObjectDetection/Tensorflow/workspace/images/collectedimages\\hello.f89bce98-e067-11ec-b624-085bd6305574.xml\n",
      "Image:C:\\IA\\Tensorflow Object Detection\\TFODCourse\\Tensorflow\\workspace\\images\\collectedimages\\hello\\hello.f274e466-e067-11ec-abdd-085bd6305574.jpg -> Annotation:C:/Users/Salah/Desktop/RealTimeObjectDetection/Tensorflow/workspace/images/collectedimages\\hello.f274e466-e067-11ec-abdd-085bd6305574.xml\n",
      "Image:C:\\IA\\Tensorflow Object Detection\\TFODCourse\\Tensorflow\\workspace\\images\\collectedimages\\hello\\hello.f7632726-e067-11ec-b9db-085bd6305574.jpg -> Annotation:C:/Users/Salah/Desktop/RealTimeObjectDetection/Tensorflow/workspace/images/collectedimages\\hello.f7632726-e067-11ec-b9db-085bd6305574.xml\n",
      "Image:C:\\IA\\Tensorflow Object Detection\\TFODCourse\\Tensorflow\\workspace\\images\\collectedimages\\hello\\hello.fb0b63b4-e067-11ec-80be-085bd6305574.jpg -> Annotation:C:/Users/Salah/Desktop/RealTimeObjectDetection/Tensorflow/workspace/images/collectedimages\\hello.fb0b63b4-e067-11ec-80be-085bd6305574.xml\n",
      "Image:C:\\IA\\Tensorflow Object Detection\\TFODCourse\\Tensorflow\\workspace\\images\\collectedimages\\hello\\hello.fc43c258-e067-11ec-846d-085bd6305574.jpg -> Annotation:C:/Users/Salah/Desktop/RealTimeObjectDetection/Tensorflow/workspace/images/collectedimages\\hello.fc43c258-e067-11ec-846d-085bd6305574.xml\n",
      "Image:C:\\IA\\Tensorflow Object Detection\\TFODCourse\\Tensorflow\\workspace\\images\\collectedimages\\hello\\hello.fd7daac6-e067-11ec-8064-085bd6305574.jpg -> Annotation:C:/Users/Salah/Desktop/RealTimeObjectDetection/Tensorflow/workspace/images/collectedimages\\hello.fd7daac6-e067-11ec-8064-085bd6305574.xml\n",
      "Image:C:\\IA\\Tensorflow Object Detection\\TFODCourse\\Tensorflow\\workspace\\images\\collectedimages\\hello\\hello.feb5e222-e067-11ec-8f33-085bd6305574.jpg -> Annotation:C:/Users/Salah/Desktop/RealTimeObjectDetection/Tensorflow/workspace/images/collectedimages\\hello.feb5e222-e067-11ec-8f33-085bd6305574.xml\n",
      "Image:C:\\IA\\Tensorflow Object Detection\\TFODCourse\\Tensorflow\\workspace\\images\\collectedimages\\hello\\hello.ffecec7a-e067-11ec-a7f8-085bd6305574.jpg -> Annotation:C:/Users/Salah/Desktop/RealTimeObjectDetection/Tensorflow/workspace/images/collectedimages\\hello.ffecec7a-e067-11ec-a7f8-085bd6305574.xml\n",
      "Image:C:\\IA\\Tensorflow Object Detection\\TFODCourse\\Tensorflow\\workspace\\images\\collectedimages\\hello\\hello.04d085b8-e068-11ec-8e76-085bd6305574.jpg -> Annotation:C:/IA/Tensorflow Object Detection/TFODCourse/Tensorflow/workspace/images/collectedimages/hello\\hello.04d085b8-e068-11ec-8e76-085bd6305574.xml\n",
      "Image:C:\\IA\\Tensorflow Object Detection\\TFODCourse\\Tensorflow\\workspace\\images\\collectedimages\\hello\\hello.025f229c-e068-11ec-b002-085bd6305574.jpg -> Annotation:C:/IA/Tensorflow Object Detection/TFODCourse/Tensorflow/workspace/images/collectedimages/hello\\hello.025f229c-e068-11ec-b002-085bd6305574.xml\n",
      "Image:C:\\IA\\Tensorflow Object Detection\\TFODCourse\\Tensorflow\\workspace\\images\\collectedimages\\hello\\hello.0397c06c-e068-11ec-b7bb-085bd6305574.jpg -> Annotation:C:/IA/Tensorflow Object Detection/TFODCourse/Tensorflow/workspace/images/collectedimages/hello\\hello.0397c06c-e068-11ec-b7bb-085bd6305574.xml\n",
      "Image:C:\\IA\\Tensorflow Object Detection\\TFODCourse\\Tensorflow\\workspace\\images\\collectedimages\\hello\\hello.0608ef2e-e068-11ec-a2e5-085bd6305574.jpg -> Annotation:C:/IA/Tensorflow Object Detection/TFODCourse/Tensorflow/workspace/images/collectedimages/hello\\hello.0608ef2e-e068-11ec-a2e5-085bd6305574.xml\n",
      "Image:C:\\IA\\Tensorflow Object Detection\\TFODCourse\\Tensorflow\\workspace\\images\\collectedimages\\hello\\hello.0741685c-e068-11ec-bd5d-085bd6305574.jpg -> Annotation:C:/IA/Tensorflow Object Detection/TFODCourse/Tensorflow/workspace/images/collectedimages/hello\\hello.0741685c-e068-11ec-bd5d-085bd6305574.xml\n",
      "Image:C:\\IA\\Tensorflow Object Detection\\TFODCourse\\Tensorflow\\workspace\\images\\collectedimages\\hello\\hello.01278680-e068-11ec-a82c-085bd6305574.jpg -> Annotation:C:/IA/Tensorflow Object Detection/TFODCourse/Tensorflow/workspace/images/collectedimages/hello\\hello.01278680-e068-11ec-a82c-085bd6305574.xml\n",
      "Image:C:\\IA\\Tensorflow Object Detection\\TFODCourse\\Tensorflow\\workspace\\images\\collectedimages\\hello\\hello.f3b5ebe2-e067-11ec-bfb4-085bd6305574.jpg -> Annotation:C:/IA/Tensorflow Object Detection/TFODCourse/Tensorflow/workspace/images/collectedimages/hello\\hello.f3b5ebe2-e067-11ec-bfb4-085bd6305574.xml\n",
      "Image:C:\\IA\\Tensorflow Object Detection\\TFODCourse\\Tensorflow\\workspace\\images\\collectedimages\\hello\\hello.f4f1945c-e067-11ec-8bc8-085bd6305574.jpg -> Annotation:C:/IA/Tensorflow Object Detection/TFODCourse/Tensorflow/workspace/images/collectedimages/hello\\hello.f4f1945c-e067-11ec-8bc8-085bd6305574.xml\n",
      "Image:C:\\IA\\Tensorflow Object Detection\\TFODCourse\\Tensorflow\\workspace\\images\\collectedimages\\hello\\hello.f9d3aa9a-e067-11ec-a93c-085bd6305574.jpg -> Annotation:C:/IA/Tensorflow Object Detection/TFODCourse/Tensorflow/workspace/images/collectedimages/hello\\hello.f9d3aa9a-e067-11ec-a93c-085bd6305574.xml\n",
      "Image:C:\\IA\\Tensorflow Object Detection\\TFODCourse\\Tensorflow\\workspace\\images\\collectedimages\\hello\\hello.f13dda1e-e067-11ec-b6e9-085bd6305574.jpg -> Annotation:C:/IA/Tensorflow Object Detection/TFODCourse/Tensorflow/workspace/images/collectedimages/hello\\hello.f13dda1e-e067-11ec-b6e9-085bd6305574.xml\n",
      "Image:C:\\IA\\Tensorflow Object Detection\\TFODCourse\\Tensorflow\\workspace\\images\\collectedimages\\hello\\hello.f62a5f4a-e067-11ec-a6e6-085bd6305574.jpg -> Annotation:C:/IA/Tensorflow Object Detection/TFODCourse/Tensorflow/workspace/images/collectedimages/hello\\hello.f62a5f4a-e067-11ec-a6e6-085bd6305574.xml\n",
      "Image:C:\\IA\\Tensorflow Object Detection\\TFODCourse\\Tensorflow\\workspace\\images\\collectedimages\\hello\\hello.f89bce98-e067-11ec-b624-085bd6305574.jpg -> Annotation:C:/IA/Tensorflow Object Detection/TFODCourse/Tensorflow/workspace/images/collectedimages/hello\\hello.f89bce98-e067-11ec-b624-085bd6305574.xml\n",
      "Image:C:\\IA\\Tensorflow Object Detection\\TFODCourse\\Tensorflow\\workspace\\images\\collectedimages\\hello\\hello.f274e466-e067-11ec-abdd-085bd6305574.jpg -> Annotation:C:/IA/Tensorflow Object Detection/TFODCourse/Tensorflow/workspace/images/collectedimages/hello\\hello.f274e466-e067-11ec-abdd-085bd6305574.xml\n",
      "Image:C:\\IA\\Tensorflow Object Detection\\TFODCourse\\Tensorflow\\workspace\\images\\collectedimages\\hello\\hello.f7632726-e067-11ec-b9db-085bd6305574.jpg -> Annotation:C:/IA/Tensorflow Object Detection/TFODCourse/Tensorflow/workspace/images/collectedimages/hello\\hello.f7632726-e067-11ec-b9db-085bd6305574.xml\n",
      "Image:C:\\IA\\Tensorflow Object Detection\\TFODCourse\\Tensorflow\\workspace\\images\\collectedimages\\hello\\hello.fb0b63b4-e067-11ec-80be-085bd6305574.jpg -> Annotation:C:/IA/Tensorflow Object Detection/TFODCourse/Tensorflow/workspace/images/collectedimages/hello\\hello.fb0b63b4-e067-11ec-80be-085bd6305574.xml\n",
      "Image:C:\\IA\\Tensorflow Object Detection\\TFODCourse\\Tensorflow\\workspace\\images\\collectedimages\\hello\\hello.fc43c258-e067-11ec-846d-085bd6305574.jpg -> Annotation:C:/IA/Tensorflow Object Detection/TFODCourse/Tensorflow/workspace/images/collectedimages/hello\\hello.fc43c258-e067-11ec-846d-085bd6305574.xml\n",
      "Image:C:\\IA\\Tensorflow Object Detection\\TFODCourse\\Tensorflow\\workspace\\images\\collectedimages\\hello\\hello.fd7daac6-e067-11ec-8064-085bd6305574.jpg -> Annotation:C:/IA/Tensorflow Object Detection/TFODCourse/Tensorflow/workspace/images/collectedimages/hello\\hello.fd7daac6-e067-11ec-8064-085bd6305574.xml\n",
      "Image:C:\\IA\\Tensorflow Object Detection\\TFODCourse\\Tensorflow\\workspace\\images\\collectedimages\\hello\\hello.feb5e222-e067-11ec-8f33-085bd6305574.jpg -> Annotation:C:/IA/Tensorflow Object Detection/TFODCourse/Tensorflow/workspace/images/collectedimages/hello\\hello.feb5e222-e067-11ec-8f33-085bd6305574.xml\n",
      "Image:C:\\IA\\Tensorflow Object Detection\\TFODCourse\\Tensorflow\\workspace\\images\\collectedimages\\hello\\hello.ffecec7a-e067-11ec-a7f8-085bd6305574.jpg -> Annotation:C:/IA/Tensorflow Object Detection/TFODCourse/Tensorflow/workspace/images/collectedimages/hello\\hello.ffecec7a-e067-11ec-a7f8-085bd6305574.xml\n",
      "Image:C:\\IA\\Tensorflow Object Detection\\TFODCourse\\Tensorflow\\workspace\\images\\collectedimages\\jul\\jul.2aa74a40-e068-11ec-b50d-085bd6305574.jpg -> Annotation:C:/IA/Tensorflow Object Detection/TFODCourse/Tensorflow/workspace/images/collectedimages/jul\\jul.2aa74a40-e068-11ec-b50d-085bd6305574.xml\n",
      "Image:C:\\IA\\Tensorflow Object Detection\\TFODCourse\\Tensorflow\\workspace\\images\\collectedimages\\jul\\jul.2bdcc85e-e068-11ec-953e-085bd6305574.jpg -> Annotation:C:/IA/Tensorflow Object Detection/TFODCourse/Tensorflow/workspace/images/collectedimages/jul\\jul.2bdcc85e-e068-11ec-953e-085bd6305574.xml\n",
      "Image:C:\\IA\\Tensorflow Object Detection\\TFODCourse\\Tensorflow\\workspace\\images\\collectedimages\\jul\\jul.2d17799c-e068-11ec-a4fa-085bd6305574.jpg -> Annotation:C:/IA/Tensorflow Object Detection/TFODCourse/Tensorflow/workspace/images/collectedimages/jul\\jul.2d17799c-e068-11ec-a4fa-085bd6305574.xml\n",
      "Image:C:\\IA\\Tensorflow Object Detection\\TFODCourse\\Tensorflow\\workspace\\images\\collectedimages\\jul\\jul.2e500b06-e068-11ec-ada9-085bd6305574.jpg -> Annotation:C:/IA/Tensorflow Object Detection/TFODCourse/Tensorflow/workspace/images/collectedimages/jul\\jul.2e500b06-e068-11ec-ada9-085bd6305574.xml\n",
      "Image:C:\\IA\\Tensorflow Object Detection\\TFODCourse\\Tensorflow\\workspace\\images\\collectedimages\\jul\\jul.2f8762e2-e068-11ec-87d6-085bd6305574.jpg -> Annotation:C:/IA/Tensorflow Object Detection/TFODCourse/Tensorflow/workspace/images/collectedimages/jul\\jul.2f8762e2-e068-11ec-87d6-085bd6305574.xml\n",
      "Image:C:\\IA\\Tensorflow Object Detection\\TFODCourse\\Tensorflow\\workspace\\images\\collectedimages\\jul\\jul.3a88098a-e068-11ec-af1e-085bd6305574.jpg -> Annotation:C:/IA/Tensorflow Object Detection/TFODCourse/Tensorflow/workspace/images/collectedimages/jul\\jul.3a88098a-e068-11ec-af1e-085bd6305574.xml\n",
      "Image:C:\\IA\\Tensorflow Object Detection\\TFODCourse\\Tensorflow\\workspace\\images\\collectedimages\\jul\\jul.3bc01f66-e068-11ec-bab1-085bd6305574.jpg -> Annotation:C:/IA/Tensorflow Object Detection/TFODCourse/Tensorflow/workspace/images/collectedimages/jul\\jul.3bc01f66-e068-11ec-bab1-085bd6305574.xml\n",
      "Image:C:\\IA\\Tensorflow Object Detection\\TFODCourse\\Tensorflow\\workspace\\images\\collectedimages\\jul\\jul.3cfacd10-e068-11ec-8b8c-085bd6305574.jpg -> Annotation:C:/IA/Tensorflow Object Detection/TFODCourse/Tensorflow/workspace/images/collectedimages/jul\\jul.3cfacd10-e068-11ec-8b8c-085bd6305574.xml\n",
      "Image:C:\\IA\\Tensorflow Object Detection\\TFODCourse\\Tensorflow\\workspace\\images\\collectedimages\\jul\\jul.3e333f6e-e068-11ec-b752-085bd6305574.jpg -> Annotation:C:/IA/Tensorflow Object Detection/TFODCourse/Tensorflow/workspace/images/collectedimages/jul\\jul.3e333f6e-e068-11ec-b752-085bd6305574.xml\n",
      "Image:C:\\IA\\Tensorflow Object Detection\\TFODCourse\\Tensorflow\\workspace\\images\\collectedimages\\jul\\jul.3f6bf3b6-e068-11ec-b300-085bd6305574.jpg -> Annotation:C:/IA/Tensorflow Object Detection/TFODCourse/Tensorflow/workspace/images/collectedimages/jul\\jul.3f6bf3b6-e068-11ec-b300-085bd6305574.xml\n",
      "Image:C:\\IA\\Tensorflow Object Detection\\TFODCourse\\Tensorflow\\workspace\\images\\collectedimages\\jul\\jul.30bda1ac-e068-11ec-89e6-085bd6305574.jpg -> Annotation:C:/IA/Tensorflow Object Detection/TFODCourse/Tensorflow/workspace/images/collectedimages/jul\\jul.30bda1ac-e068-11ec-89e6-085bd6305574.xml\n",
      "Image:C:\\IA\\Tensorflow Object Detection\\TFODCourse\\Tensorflow\\workspace\\images\\collectedimages\\jul\\jul.31f73242-e068-11ec-8c7c-085bd6305574.jpg -> Annotation:C:/IA/Tensorflow Object Detection/TFODCourse/Tensorflow/workspace/images/collectedimages/jul\\jul.31f73242-e068-11ec-8c7c-085bd6305574.xml\n",
      "Image:C:\\IA\\Tensorflow Object Detection\\TFODCourse\\Tensorflow\\workspace\\images\\collectedimages\\jul\\jul.35a0f81c-e068-11ec-9378-085bd6305574.jpg -> Annotation:C:/IA/Tensorflow Object Detection/TFODCourse/Tensorflow/workspace/images/collectedimages/jul\\jul.35a0f81c-e068-11ec-9378-085bd6305574.xml\n",
      "Image:C:\\IA\\Tensorflow Object Detection\\TFODCourse\\Tensorflow\\workspace\\images\\collectedimages\\jul\\jul.36d9750c-e068-11ec-b105-085bd6305574.jpg -> Annotation:C:/IA/Tensorflow Object Detection/TFODCourse/Tensorflow/workspace/images/collectedimages/jul\\jul.36d9750c-e068-11ec-b105-085bd6305574.xml\n",
      "Image:C:\\IA\\Tensorflow Object Detection\\TFODCourse\\Tensorflow\\workspace\\images\\collectedimages\\jul\\jul.40a4b442-e068-11ec-ae79-085bd6305574.jpg -> Annotation:C:/IA/Tensorflow Object Detection/TFODCourse/Tensorflow/workspace/images/collectedimages/jul\\jul.40a4b442-e068-11ec-ae79-085bd6305574.xml\n",
      "Image:C:\\IA\\Tensorflow Object Detection\\TFODCourse\\Tensorflow\\workspace\\images\\collectedimages\\jul\\jul.394c876c-e068-11ec-8bc5-085bd6305574.jpg -> Annotation:C:/IA/Tensorflow Object Detection/TFODCourse/Tensorflow/workspace/images/collectedimages/jul\\jul.394c876c-e068-11ec-8bc5-085bd6305574.xml\n",
      "Image:C:\\IA\\Tensorflow Object Detection\\TFODCourse\\Tensorflow\\workspace\\images\\collectedimages\\jul\\jul.2970ffb4-e068-11ec-a0cd-085bd6305574.jpg -> Annotation:C:/IA/Tensorflow Object Detection/TFODCourse/Tensorflow/workspace/images/collectedimages/jul\\jul.2970ffb4-e068-11ec-a0cd-085bd6305574.xml\n",
      "Image:C:\\IA\\Tensorflow Object Detection\\TFODCourse\\Tensorflow\\workspace\\images\\collectedimages\\jul\\jul.33302aec-e068-11ec-99b2-085bd6305574.jpg -> Annotation:C:/IA/Tensorflow Object Detection/TFODCourse/Tensorflow/workspace/images/collectedimages/jul\\jul.33302aec-e068-11ec-99b2-085bd6305574.xml\n",
      "Image:C:\\IA\\Tensorflow Object Detection\\TFODCourse\\Tensorflow\\workspace\\images\\collectedimages\\jul\\jul.34686d78-e068-11ec-aa59-085bd6305574.jpg -> Annotation:C:/IA/Tensorflow Object Detection/TFODCourse/Tensorflow/workspace/images/collectedimages/jul\\jul.34686d78-e068-11ec-aa59-085bd6305574.xml\n",
      "Image:C:\\IA\\Tensorflow Object Detection\\TFODCourse\\Tensorflow\\workspace\\images\\collectedimages\\jul\\jul.381489ee-e068-11ec-976d-085bd6305574.jpg -> Annotation:C:/IA/Tensorflow Object Detection/TFODCourse/Tensorflow/workspace/images/collectedimages/jul\\jul.381489ee-e068-11ec-976d-085bd6305574.xml\n",
      "Image:C:\\IA\\Tensorflow Object Detection\\TFODCourse\\Tensorflow\\workspace\\images\\collectedimages\\yes\\yes.0f2bf180-e068-11ec-8ace-085bd6305574.jpg -> Annotation:C:/IA/Tensorflow Object Detection/TFODCourse/Tensorflow/workspace/images/collectedimages/yes\\yes.0f2bf180-e068-11ec-8ace-085bd6305574.xml\n",
      "Image:C:\\IA\\Tensorflow Object Detection\\TFODCourse\\Tensorflow\\workspace\\images\\collectedimages\\yes\\yes.1a21f25a-e068-11ec-aa10-085bd6305574.jpg -> Annotation:C:/IA/Tensorflow Object Detection/TFODCourse/Tensorflow/workspace/images/collectedimages/yes\\yes.1a21f25a-e068-11ec-aa10-085bd6305574.xml\n",
      "Image:C:\\IA\\Tensorflow Object Detection\\TFODCourse\\Tensorflow\\workspace\\images\\collectedimages\\yes\\yes.1b5d109c-e068-11ec-8bdd-085bd6305574.jpg -> Annotation:C:/IA/Tensorflow Object Detection/TFODCourse/Tensorflow/workspace/images/collectedimages/yes\\yes.1b5d109c-e068-11ec-8bdd-085bd6305574.xml\n",
      "Image:C:\\IA\\Tensorflow Object Detection\\TFODCourse\\Tensorflow\\workspace\\images\\collectedimages\\yes\\yes.1c956efa-e068-11ec-86ea-085bd6305574.jpg -> Annotation:C:/IA/Tensorflow Object Detection/TFODCourse/Tensorflow/workspace/images/collectedimages/yes\\yes.1c956efa-e068-11ec-86ea-085bd6305574.xml\n",
      "Image:C:\\IA\\Tensorflow Object Detection\\TFODCourse\\Tensorflow\\workspace\\images\\collectedimages\\yes\\yes.1dd0d0a8-e068-11ec-b3c0-085bd6305574.jpg -> Annotation:C:/IA/Tensorflow Object Detection/TFODCourse/Tensorflow/workspace/images/collectedimages/yes\\yes.1dd0d0a8-e068-11ec-b3c0-085bd6305574.xml\n",
      "Image:C:\\IA\\Tensorflow Object Detection\\TFODCourse\\Tensorflow\\workspace\\images\\collectedimages\\yes\\yes.1f0852ec-e068-11ec-9281-085bd6305574.jpg -> Annotation:C:/IA/Tensorflow Object Detection/TFODCourse/Tensorflow/workspace/images/collectedimages/yes\\yes.1f0852ec-e068-11ec-9281-085bd6305574.xml\n",
      "Image:C:\\IA\\Tensorflow Object Detection\\TFODCourse\\Tensorflow\\workspace\\images\\collectedimages\\yes\\yes.12d04e54-e068-11ec-bb58-085bd6305574.jpg -> Annotation:C:/IA/Tensorflow Object Detection/TFODCourse/Tensorflow/workspace/images/collectedimages/yes\\yes.12d04e54-e068-11ec-bb58-085bd6305574.xml\n",
      "Image:C:\\IA\\Tensorflow Object Detection\\TFODCourse\\Tensorflow\\workspace\\images\\collectedimages\\yes\\yes.17b35dd4-e068-11ec-af0a-085bd6305574.jpg -> Annotation:C:/IA/Tensorflow Object Detection/TFODCourse/Tensorflow/workspace/images/collectedimages/yes\\yes.17b35dd4-e068-11ec-af0a-085bd6305574.xml\n",
      "Cancel creation.\n",
      "Image:C:\\IA\\Tensorflow Object Detection\\TFODCourse\\Tensorflow\\workspace\\images\\collectedimages\\yes\\yes.0f2bf180-e068-11ec-8ace-085bd6305574.jpg -> Annotation:C:/IA/Tensorflow Object Detection/TFODCourse/Tensorflow/workspace/images/collectedimages/yes\\yes.0f2bf180-e068-11ec-8ace-085bd6305574.xml\n",
      "Image:C:\\IA\\Tensorflow Object Detection\\TFODCourse\\Tensorflow\\workspace\\images\\collectedimages\\yes\\yes.1a21f25a-e068-11ec-aa10-085bd6305574.jpg -> Annotation:C:/IA/Tensorflow Object Detection/TFODCourse/Tensorflow/workspace/images/collectedimages/yes\\yes.1a21f25a-e068-11ec-aa10-085bd6305574.xml\n",
      "Image:C:\\IA\\Tensorflow Object Detection\\TFODCourse\\Tensorflow\\workspace\\images\\collectedimages\\yes\\yes.1b5d109c-e068-11ec-8bdd-085bd6305574.jpg -> Annotation:C:/IA/Tensorflow Object Detection/TFODCourse/Tensorflow/workspace/images/collectedimages/yes\\yes.1b5d109c-e068-11ec-8bdd-085bd6305574.xml\n",
      "Image:C:\\IA\\Tensorflow Object Detection\\TFODCourse\\Tensorflow\\workspace\\images\\collectedimages\\yes\\yes.1c956efa-e068-11ec-86ea-085bd6305574.jpg -> Annotation:C:/IA/Tensorflow Object Detection/TFODCourse/Tensorflow/workspace/images/collectedimages/yes\\yes.1c956efa-e068-11ec-86ea-085bd6305574.xml\n",
      "Image:C:\\IA\\Tensorflow Object Detection\\TFODCourse\\Tensorflow\\workspace\\images\\collectedimages\\yes\\yes.1dd0d0a8-e068-11ec-b3c0-085bd6305574.jpg -> Annotation:C:/IA/Tensorflow Object Detection/TFODCourse/Tensorflow/workspace/images/collectedimages/yes\\yes.1dd0d0a8-e068-11ec-b3c0-085bd6305574.xml\n",
      "Image:C:\\IA\\Tensorflow Object Detection\\TFODCourse\\Tensorflow\\workspace\\images\\collectedimages\\yes\\yes.1f0852ec-e068-11ec-9281-085bd6305574.jpg -> Annotation:C:/IA/Tensorflow Object Detection/TFODCourse/Tensorflow/workspace/images/collectedimages/yes\\yes.1f0852ec-e068-11ec-9281-085bd6305574.xml\n",
      "Image:C:\\IA\\Tensorflow Object Detection\\TFODCourse\\Tensorflow\\workspace\\images\\collectedimages\\yes\\yes.12d04e54-e068-11ec-bb58-085bd6305574.jpg -> Annotation:C:/IA/Tensorflow Object Detection/TFODCourse/Tensorflow/workspace/images/collectedimages/yes\\yes.12d04e54-e068-11ec-bb58-085bd6305574.xml\n"
     ]
    },
    {
     "name": "stdout",
     "output_type": "stream",
     "text": [
      "Image:C:\\IA\\Tensorflow Object Detection\\TFODCourse\\Tensorflow\\workspace\\images\\collectedimages\\yes\\yes.17b35dd4-e068-11ec-af0a-085bd6305574.jpg -> Annotation:C:/IA/Tensorflow Object Detection/TFODCourse/Tensorflow/workspace/images/collectedimages/yes\\yes.17b35dd4-e068-11ec-af0a-085bd6305574.xml\n",
      "Image:C:\\IA\\Tensorflow Object Detection\\TFODCourse\\Tensorflow\\workspace\\images\\collectedimages\\yes\\yes.18ead874-e068-11ec-9112-085bd6305574.jpg -> Annotation:C:/IA/Tensorflow Object Detection/TFODCourse/Tensorflow/workspace/images/collectedimages/yes\\yes.18ead874-e068-11ec-9112-085bd6305574.xml\n",
      "Image:C:\\IA\\Tensorflow Object Detection\\TFODCourse\\Tensorflow\\workspace\\images\\collectedimages\\yes\\yes.22b0542c-e068-11ec-8bbc-085bd6305574.jpg -> Annotation:C:/IA/Tensorflow Object Detection/TFODCourse/Tensorflow/workspace/images/collectedimages/yes\\yes.22b0542c-e068-11ec-8bbc-085bd6305574.xml\n",
      "Image:C:\\IA\\Tensorflow Object Detection\\TFODCourse\\Tensorflow\\workspace\\images\\collectedimages\\yes\\yes.23e8759c-e068-11ec-900c-085bd6305574.jpg -> Annotation:C:/IA/Tensorflow Object Detection/TFODCourse/Tensorflow/workspace/images/collectedimages/yes\\yes.23e8759c-e068-11ec-900c-085bd6305574.xml\n",
      "Image:C:\\IA\\Tensorflow Object Detection\\TFODCourse\\Tensorflow\\workspace\\images\\collectedimages\\yes\\yes.167c5926-e068-11ec-bdc5-085bd6305574.jpg -> Annotation:C:/IA/Tensorflow Object Detection/TFODCourse/Tensorflow/workspace/images/collectedimages/yes\\yes.167c5926-e068-11ec-bdc5-085bd6305574.xml\n",
      "Image:C:\\IA\\Tensorflow Object Detection\\TFODCourse\\Tensorflow\\workspace\\images\\collectedimages\\yes\\yes.1198fb30-e068-11ec-a1a3-085bd6305574.jpg -> Annotation:C:/IA/Tensorflow Object Detection/TFODCourse/Tensorflow/workspace/images/collectedimages/yes\\yes.1198fb30-e068-11ec-a1a3-085bd6305574.xml\n",
      "Image:C:\\IA\\Tensorflow Object Detection\\TFODCourse\\Tensorflow\\workspace\\images\\collectedimages\\yes\\yes.2178d8cc-e068-11ec-9d97-085bd6305574.jpg -> Annotation:C:/IA/Tensorflow Object Detection/TFODCourse/Tensorflow/workspace/images/collectedimages/yes\\yes.2178d8cc-e068-11ec-9d97-085bd6305574.xml\n",
      "Image:C:\\IA\\Tensorflow Object Detection\\TFODCourse\\Tensorflow\\workspace\\images\\collectedimages\\yes\\yes.14074d2c-e068-11ec-bbdf-085bd6305574.jpg -> Annotation:C:/IA/Tensorflow Object Detection/TFODCourse/Tensorflow/workspace/images/collectedimages/yes\\yes.14074d2c-e068-11ec-bbdf-085bd6305574.xml\n",
      "Image:C:\\IA\\Tensorflow Object Detection\\TFODCourse\\Tensorflow\\workspace\\images\\collectedimages\\yes\\yes.15422b78-e068-11ec-9e10-085bd6305574.jpg -> Annotation:C:/IA/Tensorflow Object Detection/TFODCourse/Tensorflow/workspace/images/collectedimages/yes\\yes.15422b78-e068-11ec-9e10-085bd6305574.xml\n",
      "Image:C:\\IA\\Tensorflow Object Detection\\TFODCourse\\Tensorflow\\workspace\\images\\collectedimages\\yes\\yes.106290ee-e068-11ec-bad9-085bd6305574.jpg -> Annotation:C:/IA/Tensorflow Object Detection/TFODCourse/Tensorflow/workspace/images/collectedimages/yes\\yes.106290ee-e068-11ec-bad9-085bd6305574.xml\n",
      "Image:C:\\IA\\Tensorflow Object Detection\\TFODCourse\\Tensorflow\\workspace\\images\\collectedimages\\yes\\yes.20412798-e068-11ec-ac6f-085bd6305574.jpg -> Annotation:C:/IA/Tensorflow Object Detection/TFODCourse/Tensorflow/workspace/images/collectedimages/yes\\yes.20412798-e068-11ec-ac6f-085bd6305574.xml\n"
     ]
    }
   ],
   "source": [
    "!cd {LABELIMG_PATH} && python labelImg.py"
   ]
  },
  {
   "cell_type": "markdown",
   "metadata": {},
   "source": [
    "# 6. Move them into a Training and Testing Partition"
   ]
  },
  {
   "cell_type": "markdown",
   "metadata": {},
   "source": [
    "# OPTIONAL - 7. Compress them for Colab Training"
   ]
  },
  {
   "cell_type": "code",
   "execution_count": 20,
   "metadata": {},
   "outputs": [],
   "source": [
    "TRAIN_PATH = os.path.join('Tensorflow', 'workspace', 'images', 'train')\n",
    "TEST_PATH = os.path.join('Tensorflow', 'workspace', 'images', 'test')\n",
    "ARCHIVE_PATH = os.path.join('Tensorflow', 'workspace', 'images', 'archive.tar.gz')"
   ]
  },
  {
   "cell_type": "code",
   "execution_count": 21,
   "metadata": {},
   "outputs": [],
   "source": [
    "!tar -czf {ARCHIVE_PATH} {TRAIN_PATH} {TEST_PATH}"
   ]
  },
  {
   "cell_type": "code",
   "execution_count": null,
   "metadata": {},
   "outputs": [],
   "source": []
  }
 ],
 "metadata": {
  "kernelspec": {
   "display_name": "tfod",
   "language": "python",
   "name": "tfod"
  },
  "language_info": {
   "codemirror_mode": {
    "name": "ipython",
    "version": 3
   },
   "file_extension": ".py",
   "mimetype": "text/x-python",
   "name": "python",
   "nbconvert_exporter": "python",
   "pygments_lexer": "ipython3",
   "version": "3.7.3"
  }
 },
 "nbformat": 4,
 "nbformat_minor": 2
}
